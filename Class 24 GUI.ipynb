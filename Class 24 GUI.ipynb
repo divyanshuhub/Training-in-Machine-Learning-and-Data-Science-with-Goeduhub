{
 "cells": [
  {
   "cell_type": "code",
   "execution_count": 2,
   "metadata": {},
   "outputs": [],
   "source": [
    "import tkinter"
   ]
  },
  {
   "cell_type": "markdown",
   "metadata": {},
   "source": [
    "window main\n",
    "\n",
    "add widgets\n",
    "\n",
    "events->main event loop->starting display window"
   ]
  },
  {
   "cell_type": "code",
   "execution_count": 11,
   "metadata": {},
   "outputs": [],
   "source": [
    "#button widget\n",
    "\n",
    "#create main window usking Tk\n",
    "window = tkinter.Tk()\n",
    "\n",
    "#window title\n",
    "window.title(\"apollo\")\n",
    "\n",
    "#label\n",
    "label = tkinter.Label(window,text=\"hello\").pack()\n",
    "\n",
    "#used to display window untill an event occurs\n",
    "window.mainloop()"
   ]
  },
  {
   "cell_type": "markdown",
   "metadata": {},
   "source": [
    "# Widget methods()"
   ]
  },
  {
   "cell_type": "markdown",
   "metadata": {},
   "source": [
    "Button\tTo add various kinds of buttons in GUI app\n",
    "\n",
    "Canvas \tThis widget is used to shapes in GUI\n",
    "\n",
    "Label\tused to display some message or information about the other widgets\n",
    "\n",
    "Entry\t used to display the single-line text field to the user\n",
    "\n",
    "Frame\tFrame is used as container \n",
    "\n",
    "Menu\tused to add menu items to the user\n",
    "\n",
    "Message \tDisplay message box to the user\n",
    "\n",
    "Scrollbar\tUsed to scroll window up and down \n",
    "\n",
    "Text\tThe Text widget is used to display text in multiple lines\n",
    "\n",
    "Spinbox    It same as scrollbar but has two tabs one is and one is down"
   ]
  },
  {
   "cell_type": "markdown",
   "metadata": {},
   "source": [
    "# Some common parameters of widget methods."
   ]
  },
  {
   "cell_type": "markdown",
   "metadata": {},
   "source": [
    "Some common parameters of widget methods.\n",
    "\n",
    "bg- To set background color.\n",
    "\n",
    "font- to set the font on the button label.\n",
    "\n",
    "command-to call a function.\n",
    "\n",
    "width: For width of the widget.\n",
    "\n",
    "height: For the height of the widget.\n",
    "\n",
    "cursor: to set the cursor used in the canvas"
   ]
  },
  {
   "cell_type": "markdown",
   "metadata": {},
   "source": [
    "# geometry managers"
   ]
  },
  {
   "cell_type": "markdown",
   "metadata": {},
   "source": [
    "pack() :-Organizes widgets in blocks before placing them in the parent widget.\n",
    "\n",
    "            without pack it wont show the objects in the window\n",
    "    \n",
    "grid() :- Organizes widgets in a table-like structure in the parent widget.\n",
    "\n",
    "place():- Place widgets on specific positions as you want.\n"
   ]
  },
  {
   "cell_type": "code",
   "execution_count": 17,
   "metadata": {},
   "outputs": [],
   "source": [
    "#button widget\n",
    "\n",
    "#create main window usking Tk\n",
    "window = tkinter.Tk()\n",
    "\n",
    "window.geometry(\"250x300\")\n",
    "\n",
    "#window title\n",
    "window.title(\"apollo\")\n",
    "\n",
    "#button\n",
    "button = tk.Button(window, text=\"button text\", width=50, bg=\"red\")\n",
    "\n",
    "button.pack()\n",
    "\n",
    "#used to display window untill an event occurs\n",
    "window.mainloop()"
   ]
  },
  {
   "cell_type": "code",
   "execution_count": 43,
   "metadata": {},
   "outputs": [],
   "source": [
    "from tkinter import *\n",
    "from tkinter import messagebox\n",
    "window=Tk()\n",
    "window.geometry(\"250x300\")\n",
    "txt=Entry(window,width=15)\n",
    "txt.grid(column=3,row=3)\n",
    "\n",
    "def click():\n",
    "    mytext = \"welcome \" + txt.get()\n",
    "    t1.configure(text=mytext)\n",
    "\n",
    "def message():\n",
    "    messagebox.showinfo('title',\"Game Sense Not Found\")\n",
    "        \n",
    "t1 = Label(window,text=\"text bish\")\n",
    "t1.grid(column=0,row=0)  \n",
    "\n",
    "bt = Button(window,text=\"enter\",bg=\"red\",fg=\"white\", command=message)\n",
    "bt.grid(column=1,row=0)    \n",
    "\n",
    "window.mainloop()"
   ]
  },
  {
   "cell_type": "code",
   "execution_count": 42,
   "metadata": {},
   "outputs": [],
   "source": [
    "from tkinter import *\n",
    "from tkinter.ttk import *\n",
    "win=Tk()\n",
    "\n",
    "win.geometry(\"300x300\")\n",
    "combo = Combobox(win)\n",
    "combo[\"values\"] = ('jaipur',\"delhi\",'chennai')\n",
    "combo.grid(column=0,row=0)\n",
    "\n",
    "win.mainloop()"
   ]
  },
  {
   "cell_type": "code",
   "execution_count": null,
   "metadata": {},
   "outputs": [],
   "source": []
  }
 ],
 "metadata": {
  "kernelspec": {
   "display_name": "Python 3",
   "language": "python",
   "name": "python3"
  },
  "language_info": {
   "codemirror_mode": {
    "name": "ipython",
    "version": 3
   },
   "file_extension": ".py",
   "mimetype": "text/x-python",
   "name": "python",
   "nbconvert_exporter": "python",
   "pygments_lexer": "ipython3",
   "version": "3.8.3"
  }
 },
 "nbformat": 4,
 "nbformat_minor": 4
}
