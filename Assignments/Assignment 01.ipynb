{
 "cells": [
  {
   "cell_type": "markdown",
   "metadata": {},
   "source": [
    "# Task 1\n"
   ]
  },
  {
   "cell_type": "markdown",
   "metadata": {},
   "source": [
    "1.We are having 3 list like this\n",
    "\n",
    "Colors = [“Yellow”,”Green”,”White”,”Black”]\n",
    "\n",
    "Fruits=[“Apple”,”Papaya”,”Mango”,”Orange”]\n",
    "\n",
    "Animals=[“Tiger”,”Lion”,”Deer”,”Zebra”]\n",
    "\n",
    "i. Write a program that asks user to enter a Color/Fruit/Animal name and it should tell which category belongs to , like its is a fruit or color or Animal"
   ]
  },
  {
   "cell_type": "code",
   "execution_count": 1,
   "metadata": {},
   "outputs": [
    {
     "name": "stdout",
     "output_type": "stream",
     "text": [
      "enter a Color/Fruit/Animal namegreen\n",
      "Colour\n"
     ]
    }
   ],
   "source": [
    "Colors = ['yellow','green','white','black']\n",
    "\n",
    "Fruits=['apple','papaya','mango','orange']\n",
    "\n",
    "Animals=['tiger','lion','deer','zebra']\n",
    "\n",
    "b=input(\"enter a Color/Fruit/Animal name\")\n",
    "a=b.lower()\n",
    "if a in Colors:\n",
    "    print(\"Colour\")\n",
    "elif a in Fruits:\n",
    "    print(\"Fruit\")\n",
    "elif a in Animals:\n",
    "    print(\"Animals\")\n",
    "else:\n",
    "    print(\"None of them\")"
   ]
  },
  {
   "cell_type": "markdown",
   "metadata": {},
   "source": [
    "ii. Write a program that asks user to enter two cities and it tells you if they both are in same country or not. For example if I enter yellow and Black, it will print \"Both are colors\" but if I enter yellow and Tiger it should print \"They don't belong to same category\"\n",
    "\n"
   ]
  },
  {
   "cell_type": "code",
   "execution_count": 3,
   "metadata": {},
   "outputs": [
    {
     "name": "stdout",
     "output_type": "stream",
     "text": [
      "enter first nameapple\n",
      "enter Second namemango\n",
      "both belongs to the same category\n"
     ]
    }
   ],
   "source": [
    "Colors = ['yellow','green','white','black']\n",
    "\n",
    "Fruits=['apple','papaya','mango','orange']\n",
    "\n",
    "Animals=['tiger','lion','deer','zebra']\n",
    "\n",
    "x=0\n",
    "a1=input(\"enter first name\")\n",
    "b1=input(\"enter Second name\")\n",
    "a=a1.lower()\n",
    "b=b1.lower()\n",
    "l=[Colors,Fruits,Animals]\n",
    "\n",
    "for i in l:\n",
    "    if a and b in Colors or a and b in Fruits or a and b in Animals:\n",
    "        print(\"both belongs to the same category\")\n",
    "        x=1\n",
    "        break\n",
    "            \n",
    "if x==0:\n",
    "    print(\"they arent in same category\")"
   ]
  },
  {
   "cell_type": "markdown",
   "metadata": {},
   "source": [
    "Write a python program that can tell you if your grade score good or not . Normal Score range is 40 to 60.\n",
    "\n",
    "i. Ask user to enter his score.\n",
    "\n",
    "ii. If it is below 40 to 60 range then print that score is low\n",
    "\n",
    "iii. If it is above 60 then print that it is good otherwise print that it is normal\n",
    "\n",
    "\n"
   ]
  },
  {
   "cell_type": "code",
   "execution_count": 4,
   "metadata": {},
   "outputs": [
    {
     "name": "stdout",
     "output_type": "stream",
     "text": [
      "enter your score100\n",
      "Good\n"
     ]
    }
   ],
   "source": [
    "s=int(input(\"enter your score\"))\n",
    "\n",
    "if s<40:\n",
    "    print(\"Fail\")\n",
    "elif s>60:\n",
    "    print(\"Good\")\n",
    "else:\n",
    "    print(\"Normal\")"
   ]
  },
  {
   "cell_type": "markdown",
   "metadata": {},
   "source": [
    "3.After appearing in exam 10 times you got this result,\n",
    "\n",
    "result = [\"Pass\",\"Fail\",\"Fail\",\"Pass\",\"Fail\",\"Pass\",\"Pass\",\"Fail\",\"Fail\",\"Fail\"]\n",
    "\n",
    "Using for loop figure out how many times you got Pass\n",
    "\n",
    "\n"
   ]
  },
  {
   "cell_type": "code",
   "execution_count": 5,
   "metadata": {},
   "outputs": [
    {
     "name": "stdout",
     "output_type": "stream",
     "text": [
      "total no. of times passed= 4\n"
     ]
    }
   ],
   "source": [
    "result = [\"Pass\",\"Fail\",\"Fail\",\"Pass\",\"Fail\",\"Pass\",\"Pass\",\"Fail\",\"Fail\",\"Fail\"]\n",
    "p = 0\n",
    "for i in result:\n",
    "    if i==\"Pass\":\n",
    "        p+=1\n",
    "print(\"total no. of times passed=\",p)"
   ]
  },
  {
   "cell_type": "markdown",
   "metadata": {},
   "source": [
    "Write a program that prints following shape *\n",
    "\n",
    "* \n",
    "\n",
    "* * \n",
    "\n",
    "* * * \n",
    "\n",
    "* * * * \n",
    "\n",
    "* * * * * \n",
    "\n",
    "* * * * * * \n",
    "\n",
    "* * * * * \n",
    "\n",
    "* * * * \n",
    "\n",
    "* * * \n",
    "\n",
    "* * \n",
    "\n",
    "*\n"
   ]
  },
  {
   "cell_type": "code",
   "execution_count": 6,
   "metadata": {},
   "outputs": [
    {
     "name": "stdout",
     "output_type": "stream",
     "text": [
      "\n",
      "* \n",
      "* * \n",
      "* * * \n",
      "* * * * \n",
      "* * * * * \n",
      "* * * * * * \n",
      "* * * * * \n",
      "* * * * \n",
      "* * * \n",
      "* * \n",
      "* \n"
     ]
    }
   ],
   "source": [
    "for i in range(0,6):\n",
    "    for j in range(i):\n",
    "        print(\"*\",end=\" \")\n",
    "    print()\n",
    "for i in range(6,0,-1):\n",
    "    for j in range(i):\n",
    "        print(\"*\",end=\" \")\n",
    "    print()"
   ]
  },
  {
   "cell_type": "markdown",
   "metadata": {},
   "source": [
    "5.Lets say you are running a 50 km race. Write a program that,\n",
    "\n",
    "Upon completing each 10 km asks you \"are you tired?\" If you reply \"yes\" then it should break and print \"you didn't finish the race\" If you reply \"no\" then it should continue and ask \"are you tired\" on every km If you finish all 50 km then it should print congratulations message\n",
    "\n"
   ]
  },
  {
   "cell_type": "code",
   "execution_count": 8,
   "metadata": {},
   "outputs": [
    {
     "name": "stdout",
     "output_type": "stream",
     "text": [
      "km finished= 10\n",
      "are you tired?yes\n",
      "you didn't finish the race\n"
     ]
    }
   ],
   "source": [
    "\n",
    "f=10\n",
    "for i in range(0,51):\n",
    "    if i==f:\n",
    "        print(\"km finished=\",i)\n",
    "        s1=input(\"are you tired?\")\n",
    "        s=s1.lower()\n",
    "        if s==\"yes\":\n",
    "            print(\"you didn't finish the race\")\n",
    "            break\n",
    "        if s==\"no\":\n",
    "            f = f+1\n",
    "if i==50:\n",
    "    print(\"congratulation\")"
   ]
  },
  {
   "cell_type": "markdown",
   "metadata": {},
   "source": [
    "6.Write a Python program to find those numbers which are divisible by 7 and multiple of 5, between 1500 and 2700 (both included).\n",
    "\n"
   ]
  },
  {
   "cell_type": "code",
   "execution_count": 9,
   "metadata": {},
   "outputs": [
    {
     "name": "stdout",
     "output_type": "stream",
     "text": [
      "1505\n",
      "1540\n",
      "1575\n",
      "1610\n",
      "1645\n",
      "1680\n",
      "1715\n",
      "1750\n",
      "1785\n",
      "1820\n",
      "1855\n",
      "1890\n",
      "1925\n",
      "1960\n",
      "1995\n",
      "2030\n",
      "2065\n",
      "2100\n",
      "2135\n",
      "2170\n",
      "2205\n",
      "2240\n",
      "2275\n",
      "2310\n",
      "2345\n",
      "2380\n",
      "2415\n",
      "2450\n",
      "2485\n",
      "2520\n",
      "2555\n",
      "2590\n",
      "2625\n",
      "2660\n",
      "2695\n"
     ]
    }
   ],
   "source": [
    "for i in range(1500,2701,5):\n",
    "    if i%7==0:\n",
    "        print(i)"
   ]
  },
  {
   "cell_type": "markdown",
   "metadata": {},
   "source": [
    "7.Print square of all numbers between 10 to 20 except even numbers\n",
    "\n",
    "\n"
   ]
  },
  {
   "cell_type": "code",
   "execution_count": 10,
   "metadata": {},
   "outputs": [
    {
     "name": "stdout",
     "output_type": "stream",
     "text": [
      "121\n",
      "169\n",
      "225\n",
      "289\n",
      "361\n"
     ]
    }
   ],
   "source": [
    "for i in range(10,20):\n",
    "    if i%2==1:\n",
    "        print(i*i)"
   ]
  },
  {
   "cell_type": "markdown",
   "metadata": {},
   "source": [
    "8.Your Marks for five Test(test1 to test5) looks like this,\n",
    "\n",
    "marks_list = [65, 75, 2100, 95, 83]\n",
    "\n",
    "Write a program that asks you to enter marks and program should tell you in which test that marks occurred. If marks is not found then it should print that as well.\n",
    "\n"
   ]
  },
  {
   "cell_type": "code",
   "execution_count": 11,
   "metadata": {},
   "outputs": [
    {
     "name": "stdout",
     "output_type": "stream",
     "text": [
      "enter your marks-24\n",
      "marks not found\n"
     ]
    }
   ],
   "source": [
    "marks_list = [65, 75, 2100, 95, 83]\n",
    "s=int(input(\"enter your marks-\"))\n",
    "\n",
    "if s in marks_list:\n",
    "    for i in range(0,len(marks_list)):\n",
    "        if marks_list[i]==s:\n",
    "            print(\"Test\",i+1)\n",
    "else:\n",
    "    print(\"marks not found\")"
   ]
  },
  {
   "cell_type": "code",
   "execution_count": null,
   "metadata": {},
   "outputs": [],
   "source": []
  }
 ],
 "metadata": {
  "kernelspec": {
   "display_name": "Python 3",
   "language": "python",
   "name": "python3"
  },
  "language_info": {
   "codemirror_mode": {
    "name": "ipython",
    "version": 3
   },
   "file_extension": ".py",
   "mimetype": "text/x-python",
   "name": "python",
   "nbconvert_exporter": "python",
   "pygments_lexer": "ipython3",
   "version": "3.8.3"
  }
 },
 "nbformat": 4,
 "nbformat_minor": 4
}
