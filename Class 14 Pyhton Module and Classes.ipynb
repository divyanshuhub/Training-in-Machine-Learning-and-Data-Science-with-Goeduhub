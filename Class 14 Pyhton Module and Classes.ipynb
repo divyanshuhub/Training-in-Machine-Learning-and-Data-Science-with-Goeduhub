{
 "cells": [
  {
   "cell_type": "code",
   "execution_count": 102,
   "metadata": {},
   "outputs": [
    {
     "ename": "SyntaxError",
     "evalue": "invalid syntax (<ipython-input-102-8e48d661f651>, line 1)",
     "output_type": "error",
     "traceback": [
      "\u001b[1;36m  File \u001b[1;32m\"<ipython-input-102-8e48d661f651>\"\u001b[1;36m, line \u001b[1;32m1\u001b[0m\n\u001b[1;33m    def\u001b[0m\n\u001b[1;37m       ^\u001b[0m\n\u001b[1;31mSyntaxError\u001b[0m\u001b[1;31m:\u001b[0m invalid syntax\n"
     ]
    }
   ],
   "source": [
    "def\n",
    "\n",
    "\n",
    "def\n",
    "\n",
    "\n",
    "def\n",
    "\n",
    "\n",
    "def\n",
    "\n",
    "\n",
    "\n",
    "save and import into another file, thats module"
   ]
  },
  {
   "cell_type": "code",
   "execution_count": null,
   "metadata": {},
   "outputs": [],
   "source": [
    "class xyz(self, a,b,c):\n",
    "    def __init__(self)\n",
    "    \n",
    "    def method_name(self ,a)\n",
    "    \n",
    "    def\n",
    "    \n",
    "    def\n",
    "    \n",
    "    \n",
    "abc = xyz.method_name()    \n",
    "\n",
    "\n",
    "that's how class works\n",
    "\n",
    "(preferably  (ig)) in the same file\n"
   ]
  }
 ],
 "metadata": {
  "kernelspec": {
   "display_name": "Python 3",
   "language": "python",
   "name": "python3"
  },
  "language_info": {
   "codemirror_mode": {
    "name": "ipython",
    "version": 3
   },
   "file_extension": ".py",
   "mimetype": "text/x-python",
   "name": "python",
   "nbconvert_exporter": "python",
   "pygments_lexer": "ipython3",
   "version": "3.8.3"
  }
 },
 "nbformat": 4,
 "nbformat_minor": 4
}
