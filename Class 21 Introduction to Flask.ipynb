{
 "cells": [
  {
   "cell_type": "markdown",
   "metadata": {},
   "source": [
    "flask's 2 core part\n",
    "\n",
    "WSGI - Web Server Gateway Interface\n",
    "Jinga 2 template Engine - in Web intigrates data sources to render dynaimac pages\n"
   ]
  },
  {
   "cell_type": "markdown",
   "metadata": {},
   "source": [
    "# WSGI\n"
   ]
  },
  {
   "cell_type": "markdown",
   "metadata": {},
   "source": [
    "WSGI is for communication between the server and the flask application \n",
    "\n"
   ]
  },
  {
   "cell_type": "markdown",
   "metadata": {},
   "source": [
    "# Jinga2 Template Engine"
   ]
  },
  {
   "cell_type": "markdown",
   "metadata": {},
   "source": [
    "integrate the template with the data sources to render dynaimac pages\n",
    "\n",
    "dynamic = machine learning model(.pkl .hs)\n",
    "\n",
    "data sources = sql,model"
   ]
  },
  {
   "cell_type": "markdown",
   "metadata": {},
   "source": [
    "# now on the pycharm flaskfirst.py"
   ]
  },
  {
   "cell_type": "code",
   "execution_count": null,
   "metadata": {},
   "outputs": [],
   "source": []
  }
 ],
 "metadata": {
  "kernelspec": {
   "display_name": "Python 3",
   "language": "python",
   "name": "python3"
  },
  "language_info": {
   "codemirror_mode": {
    "name": "ipython",
    "version": 3
   },
   "file_extension": ".py",
   "mimetype": "text/x-python",
   "name": "python",
   "nbconvert_exporter": "python",
   "pygments_lexer": "ipython3",
   "version": "3.8.3"
  }
 },
 "nbformat": 4,
 "nbformat_minor": 4
}
